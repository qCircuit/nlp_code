{
 "cells": [
  {
   "cell_type": "code",
   "execution_count": 21,
   "id": "60f50bf9-cdbd-466a-8772-b8a33b32ad16",
   "metadata": {},
   "outputs": [
    {
     "name": "stdout",
     "output_type": "stream",
     "text": [
      "64\n"
     ]
    }
   ],
   "source": [
    "from sentence_transformers import SentenceTransformer, util\n",
    "from sklearn.cluster import DBSCAN\n",
    "from sklearn.manifold import TSNE\n",
    "from tqdm import tqdm\n",
    "import datetime\n",
    "import matplotlib.pyplot as plt\n",
    "import numpy as np\n",
    "import pandas as pd\n",
    "import pickle\n",
    "import seaborn as sns\n",
    "import time\n",
    "import torch\n",
    "\n",
    "import pymorphy2\n",
    "import re\n",
    "import spacy\n",
    "\n",
    "import os\n",
    "print(os.cpu_count())\n",
    "\n",
    "from sentence_transformers import SentenceTransformer\n",
    "model = SentenceTransformer('intfloat/multilingual-e5-large')"
   ]
  },
  {
   "cell_type": "markdown",
   "id": "30b93083-2e9e-4ab6-a783-d200fbac4b4f",
   "metadata": {},
   "source": [
    "## read data"
   ]
  },
  {
   "cell_type": "code",
   "execution_count": 2,
   "id": "5d9c4fcd-9871-4ea9-af17-981ddcfa4b05",
   "metadata": {},
   "outputs": [
    {
     "name": "stdout",
     "output_type": "stream",
     "text": [
      "(2362742, 16)\n",
      "(825, 2)\n"
     ]
    }
   ],
   "source": [
    "df = pd.read_parquet(\"data/data_analogue/09180919.parquet.gzip\")\n",
    "print(df.shape)\n",
    "\n",
    "titles = pd.read_csv(\"data/titles.csv\")\n",
    "titles.columns = [\"title\", \"price\"]\n",
    "print(titles.shape)"
   ]
  },
  {
   "cell_type": "markdown",
   "id": "6402c7c5-117f-4c40-8778-6c94e9f86849",
   "metadata": {},
   "source": [
    "## extracta unidades"
   ]
  },
  {
   "cell_type": "code",
   "execution_count": 3,
   "id": "db4f59fd-df9b-4fda-a329-5bbcbf11d29a",
   "metadata": {},
   "outputs": [],
   "source": [
    "def extract_units(v):\n",
    "    pattern =  r'(\\d+(?:[\\.,]\\d+)?)\\s*(мл|гр|л.|шт|кг)'\n",
    "\n",
    "    return re.findall(pattern, v)\n",
    "\n",
    "titles[\"units\"] = titles.title.apply(extract_units)\n",
    "titles[\"value\"] = titles.units.apply(lambda v: v[0][0] if len(v) > 0 else v)\n",
    "titles[\"unit\"] = titles.units.apply(lambda v: v[0][1] if len(v) > 0 else v)"
   ]
  },
  {
   "cell_type": "code",
   "execution_count": 4,
   "id": "de7837cd-c0d5-42ca-a7c9-27fbc284fecf",
   "metadata": {},
   "outputs": [],
   "source": [
    "df[\"units\"] = df.title.apply(extract_units)\n",
    "df[\"value\"] = df.units.apply(lambda v: v[0][0] if len(v) > 0 else v)\n",
    "df[\"unit\"] = df.units.apply(lambda v: v[0][1] if len(v) > 0 else v)"
   ]
  },
  {
   "cell_type": "code",
   "execution_count": 5,
   "id": "642cdf4d-4fc0-4d8d-a3cf-14d9d923ebea",
   "metadata": {},
   "outputs": [
    {
     "data": {
      "text/html": [
       "<div>\n",
       "<style scoped>\n",
       "    .dataframe tbody tr th:only-of-type {\n",
       "        vertical-align: middle;\n",
       "    }\n",
       "\n",
       "    .dataframe tbody tr th {\n",
       "        vertical-align: top;\n",
       "    }\n",
       "\n",
       "    .dataframe thead th {\n",
       "        text-align: right;\n",
       "    }\n",
       "</style>\n",
       "<table border=\"1\" class=\"dataframe\">\n",
       "  <thead>\n",
       "    <tr style=\"text-align: right;\">\n",
       "      <th></th>\n",
       "      <th>title</th>\n",
       "      <th>units</th>\n",
       "      <th>value</th>\n",
       "      <th>unit</th>\n",
       "    </tr>\n",
       "  </thead>\n",
       "  <tbody>\n",
       "    <tr>\n",
       "      <th>30</th>\n",
       "      <td>Перчатки нитриловые XS зеленые, 100шт</td>\n",
       "      <td>[(100, шт)]</td>\n",
       "      <td>100</td>\n",
       "      <td>шт</td>\n",
       "    </tr>\n",
       "    <tr>\n",
       "      <th>40</th>\n",
       "      <td>Забор ограждение коричневый Кирпич пластик 25с...</td>\n",
       "      <td>[(2, шт)]</td>\n",
       "      <td>2</td>\n",
       "      <td>шт</td>\n",
       "    </tr>\n",
       "    <tr>\n",
       "      <th>52</th>\n",
       "      <td>Солнцезащитный увлажняющий крем для лица SPF30...</td>\n",
       "      <td>[(50, мл)]</td>\n",
       "      <td>50</td>\n",
       "      <td>мл</td>\n",
       "    </tr>\n",
       "    <tr>\n",
       "      <th>83</th>\n",
       "      <td>Краска для волос PERFORMANCE 6.22, 60 мл</td>\n",
       "      <td>[(60, мл)]</td>\n",
       "      <td>60</td>\n",
       "      <td>мл</td>\n",
       "    </tr>\n",
       "    <tr>\n",
       "      <th>108</th>\n",
       "      <td>Light Ресницы чёрные шайн 16 лент микс D 0,07 ...</td>\n",
       "      <td>[(16, ле)]</td>\n",
       "      <td>16</td>\n",
       "      <td>ле</td>\n",
       "    </tr>\n",
       "  </tbody>\n",
       "</table>\n",
       "</div>"
      ],
      "text/plain": [
       "                                                 title        units value unit\n",
       "30               Перчатки нитриловые XS зеленые, 100шт  [(100, шт)]   100   шт\n",
       "40   Забор ограждение коричневый Кирпич пластик 25с...    [(2, шт)]     2   шт\n",
       "52   Солнцезащитный увлажняющий крем для лица SPF30...   [(50, мл)]    50   мл\n",
       "83            Краска для волос PERFORMANCE 6.22, 60 мл   [(60, мл)]    60   мл\n",
       "108  Light Ресницы чёрные шайн 16 лент микс D 0,07 ...   [(16, ле)]    16   ле"
      ]
     },
     "execution_count": 5,
     "metadata": {},
     "output_type": "execute_result"
    }
   ],
   "source": [
    "df[df.unit.astype(str) != \"[]\"][[\"title\", \"units\", \"value\", \"unit\"]].head(5)"
   ]
  },
  {
   "cell_type": "markdown",
   "id": "c0ec6f68-0bb3-44ac-9cc3-997dfe8cdc9c",
   "metadata": {},
   "source": [
    "## clear title"
   ]
  },
  {
   "cell_type": "code",
   "execution_count": 8,
   "id": "e6b7e62e-daf5-40bb-911c-c167bcba99f5",
   "metadata": {},
   "outputs": [
    {
     "name": "stderr",
     "output_type": "stream",
     "text": [
      "/tmp/ipykernel_3173654/3397463742.py:8: FutureWarning: The default value of regex will change from True to False in a future version. In addition, single character regular expressions will *not* be treated as literal strings when regex=True.\n",
      "  titles.title_clear = titles.title_clear.str.replace(\".\", \"\")\n",
      "/tmp/ipykernel_3173654/3397463742.py:10: FutureWarning: The default value of regex will change from True to False in a future version. In addition, single character regular expressions will *not* be treated as literal strings when regex=True.\n",
      "  titles.title_clear = titles.title_clear.str.replace(\"*\", \"\")\n"
     ]
    }
   ],
   "source": [
    "def remove_units(row):\n",
    "    title = row['title']\n",
    "    val = row['value']\n",
    "    unit = row[\"unit\"]\n",
    "    return title.replace(str(val), '').replace(str(unit), '').strip()\n",
    "\n",
    "titles[\"title_clear\"] = titles.apply(remove_units, axis=1)\n",
    "titles.title_clear = titles.title_clear.str.replace(\".\", \"\")\n",
    "titles.title_clear = titles.title_clear.str.replace(\"#\", \"\")\n",
    "titles.title_clear = titles.title_clear.str.replace(\"*\", \"\")\n",
    "titles.title_clear = titles.title_clear.str.replace(\"д/\", \"для \")\n",
    "titles.title_clear = titles.title_clear.str.replace(\"/\", \" \")\n",
    "titles.title_clear = titles.title_clear.apply(lambda v: re.sub(r\"\\d\", \"\", v))"
   ]
  },
  {
   "cell_type": "code",
   "execution_count": 9,
   "id": "0c5aaea3-6209-4e2d-bf85-4e629f5afa9f",
   "metadata": {},
   "outputs": [
    {
     "name": "stderr",
     "output_type": "stream",
     "text": [
      "/tmp/ipykernel_3173654/2564157114.py:2: FutureWarning: The default value of regex will change from True to False in a future version. In addition, single character regular expressions will *not* be treated as literal strings when regex=True.\n",
      "  df.title_clear = df.title_clear.str.replace(\".\", \"\")\n",
      "/tmp/ipykernel_3173654/2564157114.py:4: FutureWarning: The default value of regex will change from True to False in a future version. In addition, single character regular expressions will *not* be treated as literal strings when regex=True.\n",
      "  df.title_clear = df.title_clear.str.replace(\"*\", \"\")\n"
     ]
    }
   ],
   "source": [
    "df[\"title_clear\"] = df.apply(remove_units, axis=1)\n",
    "df.title_clear = df.title_clear.str.replace(\".\", \"\")\n",
    "df.title_clear = df.title_clear.str.replace(\"#\", \"\")\n",
    "df.title_clear = df.title_clear.str.replace(\"*\", \"\")\n",
    "df.title_clear = df.title_clear.str.replace(\"д/\", \"для \")\n",
    "df.title_clear = df.title_clear.str.replace(\"/\", \" \")\n",
    "df.title_clear = df.title_clear.apply(lambda v: re.sub(r\"\\d\", \"\", v))"
   ]
  },
  {
   "cell_type": "markdown",
   "id": "cf431b58-1f15-4c34-b95a-63bcb2fd8dfa",
   "metadata": {},
   "source": [
    "## transformer"
   ]
  },
  {
   "cell_type": "code",
   "execution_count": 11,
   "id": "fc91aba8-2248-44e9-aa70-95d87abcb294",
   "metadata": {},
   "outputs": [],
   "source": [
    "texts = [\"query: \" + sent for sent in titles.title_clear.to_list()]\n",
    "embeddings = model.encode(texts, normalize_embeddings=True)\n",
    "embeddings_titles = dict(zip(titles.title_clear.to_list(), embeddings))"
   ]
  },
  {
   "cell_type": "code",
   "execution_count": null,
   "id": "da35f62f-c902-4af0-9cbc-1212aae1777f",
   "metadata": {},
   "outputs": [],
   "source": [
    "# texts = [\"query: \" + sent for sent in df.title_clear.to_list()]\n",
    "# embeddings = model.encode(texts, normalize_embeddings=True)\n",
    "# embeddings_df = dict(zip(titles.title_clear.to_list(), embeddings))"
   ]
  },
  {
   "cell_type": "code",
   "execution_count": 18,
   "id": "b8e06d6d-b7d2-403e-b6bc-ef2b3ebb51c4",
   "metadata": {},
   "outputs": [],
   "source": [
    "embeddings_dict = {}"
   ]
  },
  {
   "cell_type": "code",
   "execution_count": null,
   "id": "9b2fb65c-8a8f-4982-a50a-92f821c4bcbf",
   "metadata": {},
   "outputs": [
    {
     "name": "stderr",
     "output_type": "stream",
     "text": [
      "Processing Batches:  16%|█▌        | 3801/23628 [1:44:11<12:56:31,  2.35s/it]"
     ]
    }
   ],
   "source": [
    "batch_size = 100\n",
    "total_batches = (len(df) + batch_size - 1) // batch_size\n",
    "\n",
    "for i in tqdm(range(total_batches), desc=\"Processing Batches\"):\n",
    "    dfc = df[i*batch_size:(i+1)*batch_size].reset_index(drop=True)\n",
    "    toEmbed = [\"query: \" + sent for sent in dfc.title_clear.to_list()]\n",
    "    embeddings_dict.update((dict(zip(dfc.title_clear, model.encode(toEmbed)))))\n",
    "    if i % 10 == 0:\n",
    "        with open(\"data/data_analogue/embeddings_dict.pkl\", \"wb\") as pickle_file:\n",
    "            pickle.dump(embeddings_dict, pickle_file)\n",
    "        with open(f\"data/data_analogue/cnt/{i}.pkl\", \"wb\") as pickle_file:\n",
    "            pickle.dump(i, pickle_file)"
   ]
  },
  {
   "cell_type": "markdown",
   "id": "2ff977da-440b-426a-86de-52f9d79fa775",
   "metadata": {},
   "source": [
    "## similiarity"
   ]
  },
  {
   "cell_type": "code",
   "execution_count": 32,
   "id": "0d07e1b0-0f1c-4396-a2f5-308b2457ed2d",
   "metadata": {},
   "outputs": [
    {
     "data": {
      "text/plain": [
       "array([ 0.01765255, -0.01208359, -0.04187283, ..., -0.02845209,\n",
       "       -0.04686246, -0.02352369], dtype=float32)"
      ]
     },
     "execution_count": 32,
     "metadata": {},
     "output_type": "execute_result"
    }
   ],
   "source": [
    "target_item = 'CALGON Порошок для стир машин   пакет  '\n",
    "target_embedding = embeddings_titles[target_item]\n",
    "target_embedding"
   ]
  },
  {
   "cell_type": "code",
   "execution_count": 50,
   "id": "bb2816b6-2546-4caf-817e-bb06a0120c7b",
   "metadata": {},
   "outputs": [
    {
     "data": {
      "text/plain": [
       "[array([-0.00190464, -0.01742457, -0.01704312, ..., -0.01980822,\n",
       "        -0.00352882,  0.00061696], dtype=float32),\n",
       " array([ 0.00955767, -0.02369396, -0.02404957, ...,  0.01609664,\n",
       "        -0.07823528,  0.00591879], dtype=float32),\n",
       " array([ 0.00413634, -0.01285618, -0.03304748, ..., -0.021833  ,\n",
       "        -0.02210444, -0.00267873], dtype=float32)]"
      ]
     },
     "execution_count": 50,
     "metadata": {},
     "output_type": "execute_result"
    }
   ],
   "source": [
    "# text_embeddings = {k:embeddings_dict[k] for k in list(embeddings_dict)[:3]}\n",
    "# list(text_embeddings.values())"
   ]
  },
  {
   "cell_type": "code",
   "execution_count": 31,
   "id": "253bcd4a-e4f5-4eaf-b9de-e237e69d2e1f",
   "metadata": {},
   "outputs": [],
   "source": [
    "from sklearn.metrics.pairwise import cosine_similarity"
   ]
  },
  {
   "cell_type": "code",
   "execution_count": 56,
   "id": "53222aa8-6514-41fa-814b-66b82f96acf9",
   "metadata": {},
   "outputs": [
    {
     "name": "stderr",
     "output_type": "stream",
     "text": [
      "IOPub data rate exceeded.\n",
      "The Jupyter server will temporarily stop sending output\n",
      "to the client in order to avoid crashing it.\n",
      "To change this limit, set the config variable\n",
      "`--ServerApp.iopub_data_rate_limit`.\n",
      "\n",
      "Current values:\n",
      "ServerApp.iopub_data_rate_limit=1000000.0 (bytes/sec)\n",
      "ServerApp.rate_limit_window=3.0 (secs)\n",
      "\n"
     ]
    }
   ],
   "source": [
    "similarities = [cosine_similarity(\n",
    "    [embeddings_titles[target_item]],\n",
    "    [embedding]\n",
    ")[0][0] for embedding in embeddings_dict.values()]\n",
    "     \n",
    "print(similarities)"
   ]
  },
  {
   "cell_type": "code",
   "execution_count": 59,
   "id": "1270019a-87b9-49ef-bf52-e14cc81a5faf",
   "metadata": {},
   "outputs": [
    {
     "data": {
      "text/plain": [
       "['Калгон порошок для стиральных машин  г',\n",
       " 'Средство для стиральной машины Calgon порошок в,',\n",
       " 'Calgon Порошок для смягчения воды Calgon',\n",
       " 'Смягчитель воды для стиральных машин Calgon  в , порошок',\n",
       " 'Порошок для смягчения воды Calgon  ',\n",
       " 'Порошок от накипи Calgon',\n",
       " 'Сalgon Порошок для смягчения воды г',\n",
       " 'Смягчитель воды для стиральных машин Calgon в, порошок, …',\n",
       " 'Смягчитель воды для стиральных машин Calgon  в , гель',\n",
       " 'Соль для посудомоечных машин Calgonit,']"
      ]
     },
     "execution_count": 59,
     "metadata": {},
     "output_type": "execute_result"
    }
   ],
   "source": [
    "sorted_embeddings = [x for _, x in sorted(\n",
    "    zip(similarities, embeddings_dict), reverse=True\n",
    ")]\n",
    "\n",
    "num_closest_embeddings = 10\n",
    "sorted_embeddings[:num_closest_embeddings]"
   ]
  }
 ],
 "metadata": {
  "kernelspec": {
   "display_name": "Python 3 (ipykernel)",
   "language": "python",
   "name": "python3"
  },
  "language_info": {
   "codemirror_mode": {
    "name": "ipython",
    "version": 3
   },
   "file_extension": ".py",
   "mimetype": "text/x-python",
   "name": "python",
   "nbconvert_exporter": "python",
   "pygments_lexer": "ipython3",
   "version": "3.10.5"
  }
 },
 "nbformat": 4,
 "nbformat_minor": 5
}
