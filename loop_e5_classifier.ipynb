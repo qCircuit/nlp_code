{
 "cells": [
  {
   "cell_type": "code",
   "execution_count": 2,
   "id": "69a77246-eeb0-4a95-834f-6916651c08f1",
   "metadata": {},
   "outputs": [
    {
     "name": "stdout",
     "output_type": "stream",
     "text": [
      "64\n"
     ]
    }
   ],
   "source": [
    "from sentence_transformers import SentenceTransformer, util\n",
    "from sklearn.cluster import DBSCAN\n",
    "from sklearn.manifold import TSNE\n",
    "from tqdm import tqdm\n",
    "import matplotlib.pyplot as plt\n",
    "import numpy as np\n",
    "import pandas as pd\n",
    "import pickle\n",
    "import time`\n",
    "import torch\n",
    "\n",
    "import pymorphy2\n",
    "import re\n",
    "import spacy\n",
    "\n",
    "from string import punctuation\n",
    "from sklearn.ensemble import HistGradientBoostingClassifier\n",
    "from sklearn.metrics import accuracy_score\n",
    "from sklearn.model_selection import train_test_split\n",
    "import torch\n",
    "\n",
    "data_path = \"data/\"\n",
    "\n",
    "import os\n",
    "print(os.cpu_count())"
   ]
  },
  {
   "cell_type": "code",
   "execution_count": 3,
   "id": "5394c23a-9669-4b44-8a11-08bdcd1806ad",
   "metadata": {},
   "outputs": [
    {
     "data": {
      "text/plain": [
       "(541981, 15)"
      ]
     },
     "execution_count": 3,
     "metadata": {},
     "output_type": "execute_result"
    }
   ],
   "source": [
    "df = pd.read_parquet(data_path+\"labeled/1090_df_labeled.parquet.gzip\")\n",
    "df.shape"
   ]
  },
  {
   "cell_type": "code",
   "execution_count": null,
   "id": "fe95620f-bbfe-485c-bef4-157eb09b587a",
   "metadata": {},
   "outputs": [],
   "source": [
    "!ls -a data"
   ]
  },
  {
   "cell_type": "code",
   "execution_count": 58,
   "id": "21fc7903-b935-4765-ac02-bdf1955c0bc1",
   "metadata": {},
   "outputs": [],
   "source": [
    "df[df.group.apply(lambda v: v.split(\"_\")[1]) != \"-1\"].to_parquet(\"data/test.csv.gzip\", index=False, compression=\"gzip\")"
   ]
  },
  {
   "cell_type": "code",
   "execution_count": 46,
   "id": "6d4ac2d6-11e3-4030-a782-b2f9f7471d16",
   "metadata": {},
   "outputs": [
    {
     "data": {
      "text/html": [
       "<div>\n",
       "<style scoped>\n",
       "    .dataframe tbody tr th:only-of-type {\n",
       "        vertical-align: middle;\n",
       "    }\n",
       "\n",
       "    .dataframe tbody tr th {\n",
       "        vertical-align: top;\n",
       "    }\n",
       "\n",
       "    .dataframe thead th {\n",
       "        text-align: right;\n",
       "    }\n",
       "</style>\n",
       "<table border=\"1\" class=\"dataframe\">\n",
       "  <thead>\n",
       "    <tr style=\"text-align: right;\">\n",
       "      <th></th>\n",
       "      <th>title</th>\n",
       "      <th>description</th>\n",
       "      <th>group</th>\n",
       "    </tr>\n",
       "  </thead>\n",
       "  <tbody>\n",
       "    <tr>\n",
       "      <th>367214</th>\n",
       "      <td>LAN кабель для интернета cat5e RJ45 1Гбит патч...</td>\n",
       "      <td>Интернетный кабель высокого качества. Патч кор...</td>\n",
       "      <td>9963_20</td>\n",
       "    </tr>\n",
       "    <tr>\n",
       "      <th>367297</th>\n",
       "      <td>LAN кабель для интернета cat5e RJ45 1Гбит патч...</td>\n",
       "      <td>Интернетный кабель высокого качества. Патч кор...</td>\n",
       "      <td>9963_20</td>\n",
       "    </tr>\n",
       "    <tr>\n",
       "      <th>367323</th>\n",
       "      <td>LAN кабель для подключения интернет патч корд ...</td>\n",
       "      <td>Интернетный кабель высокого качества. Патч кор...</td>\n",
       "      <td>9963_20</td>\n",
       "    </tr>\n",
       "    <tr>\n",
       "      <th>367463</th>\n",
       "      <td>LAN кабель для интернета cat5e RJ45 1Гбит патч...</td>\n",
       "      <td>Интернетный кабель высокого качества. Патч кор...</td>\n",
       "      <td>9963_20</td>\n",
       "    </tr>\n",
       "    <tr>\n",
       "      <th>367591</th>\n",
       "      <td>LAN кабель для интернета cat5e RJ45 1Гбит патч...</td>\n",
       "      <td>Интернетный кабель высокого качества. Патч кор...</td>\n",
       "      <td>9963_20</td>\n",
       "    </tr>\n",
       "  </tbody>\n",
       "</table>\n",
       "</div>"
      ],
      "text/plain": [
       "                                                    title  \\\n",
       "367214  LAN кабель для интернета cat5e RJ45 1Гбит патч...   \n",
       "367297  LAN кабель для интернета cat5e RJ45 1Гбит патч...   \n",
       "367323  LAN кабель для подключения интернет патч корд ...   \n",
       "367463  LAN кабель для интернета cat5e RJ45 1Гбит патч...   \n",
       "367591  LAN кабель для интернета cat5e RJ45 1Гбит патч...   \n",
       "\n",
       "                                              description    group  \n",
       "367214  Интернетный кабель высокого качества. Патч кор...  9963_20  \n",
       "367297  Интернетный кабель высокого качества. Патч кор...  9963_20  \n",
       "367323  Интернетный кабель высокого качества. Патч кор...  9963_20  \n",
       "367463  Интернетный кабель высокого качества. Патч кор...  9963_20  \n",
       "367591  Интернетный кабель высокого качества. Патч кор...  9963_20  "
      ]
     },
     "execution_count": 46,
     "metadata": {},
     "output_type": "execute_result"
    }
   ],
   "source": [
    "df[df.group == np.random.choice(df.group.unique())][[\"title\", \"description\", \"group\"]]"
   ]
  },
  {
   "cell_type": "code",
   "execution_count": 50,
   "id": "2555aca2-5bc9-45c7-884d-90fb1852ef25",
   "metadata": {},
   "outputs": [
    {
     "name": "stdout",
     "output_type": "stream",
     "text": [
      "1\n",
      "(141427, 15) 9140\n"
     ]
    }
   ],
   "source": [
    "cnt_target = df.group.value_counts()\n",
    "print(len(cnt_target[cnt_target < 2].keys()))\n",
    "\n",
    "# drop trash group\n",
    "df_good = df[~df.group.apply(lambda v: v.split(\"_\")[1]).isin([\"-1\"])].reset_index(drop=True)\n",
    "# drop single targets\n",
    "df_good = df[~df.group.isin(list(cnt_target[cnt_target < 2].keys()))].reset_index(drop=True)\n",
    "\n",
    "print(df.shape, df_good.group.nunique())"
   ]
  },
  {
   "cell_type": "markdown",
   "id": "f14a548b-a4eb-4044-ae82-28059c6176bf",
   "metadata": {
    "jp-MarkdownHeadingCollapsed": true,
    "tags": []
   },
   "source": [
    "# histogram"
   ]
  },
  {
   "cell_type": "code",
   "execution_count": 64,
   "id": "a19b7a36-adea-467e-b9e2-623e248c5aa3",
   "metadata": {},
   "outputs": [
    {
     "name": "stdout",
     "output_type": "stream",
     "text": [
      "time: 324.80134177207947\n"
     ]
    }
   ],
   "source": [
    "st = time.time()\n",
    "\n",
    "clf = HistGradientBoostingClassifier(max_iter=1000)\n",
    "clf.fit(\n",
    "    np.array(list(df_good.embeddings), dtype=float),\n",
    "    df_good.group.values\n",
    ")\n",
    "\n",
    "print(f\"time: {time.time() - st}\")"
   ]
  },
  {
   "cell_type": "code",
   "execution_count": 65,
   "id": "2cc7eb3f-6d47-426d-95cf-f73cfe521249",
   "metadata": {},
   "outputs": [
    {
     "data": {
      "text/html": [
       "<div>\n",
       "<style scoped>\n",
       "    .dataframe tbody tr th:only-of-type {\n",
       "        vertical-align: middle;\n",
       "    }\n",
       "\n",
       "    .dataframe tbody tr th {\n",
       "        vertical-align: top;\n",
       "    }\n",
       "\n",
       "    .dataframe thead th {\n",
       "        text-align: right;\n",
       "    }\n",
       "</style>\n",
       "<table border=\"1\" class=\"dataframe\">\n",
       "  <thead>\n",
       "    <tr style=\"text-align: right;\">\n",
       "      <th></th>\n",
       "      <th>embeddings</th>\n",
       "      <th>group</th>\n",
       "    </tr>\n",
       "  </thead>\n",
       "  <tbody>\n",
       "    <tr>\n",
       "      <th>58593</th>\n",
       "      <td>[0.019851577, -0.014928423, -0.015613066, -0.0...</td>\n",
       "      <td>967</td>\n",
       "    </tr>\n",
       "    <tr>\n",
       "      <th>18499</th>\n",
       "      <td>[0.011278529, -0.009696034, -0.0001188231, -0....</td>\n",
       "      <td>1380</td>\n",
       "    </tr>\n",
       "    <tr>\n",
       "      <th>21729</th>\n",
       "      <td>[0.008027035, -0.025474597, 0.0033335777, -0.0...</td>\n",
       "      <td>1768</td>\n",
       "    </tr>\n",
       "    <tr>\n",
       "      <th>6585</th>\n",
       "      <td>[0.034189533, -0.014423374, -0.023568464, -0.0...</td>\n",
       "      <td>430</td>\n",
       "    </tr>\n",
       "    <tr>\n",
       "      <th>54366</th>\n",
       "      <td>[0.026823383, -0.016151477, -0.014018539, -0.0...</td>\n",
       "      <td>1917</td>\n",
       "    </tr>\n",
       "  </tbody>\n",
       "</table>\n",
       "</div>"
      ],
      "text/plain": [
       "                                              embeddings  group\n",
       "58593  [0.019851577, -0.014928423, -0.015613066, -0.0...    967\n",
       "18499  [0.011278529, -0.009696034, -0.0001188231, -0....   1380\n",
       "21729  [0.008027035, -0.025474597, 0.0033335777, -0.0...   1768\n",
       "6585   [0.034189533, -0.014423374, -0.023568464, -0.0...    430\n",
       "54366  [0.026823383, -0.016151477, -0.014018539, -0.0...   1917"
      ]
     },
     "execution_count": 65,
     "metadata": {},
     "output_type": "execute_result"
    }
   ],
   "source": [
    "df_sample = df_good[[\"embeddings\", \"group\"]].sample(5)\n",
    "df_sample"
   ]
  },
  {
   "cell_type": "code",
   "execution_count": 66,
   "id": "cd1de88a-9efd-42ad-9e23-2f390d81bee9",
   "metadata": {},
   "outputs": [
    {
     "data": {
      "text/plain": [
       "array([ 72, 299, 520, 775,  93])"
      ]
     },
     "execution_count": 66,
     "metadata": {},
     "output_type": "execute_result"
    }
   ],
   "source": [
    "clf.predict(np.array(list(df_sample.embeddings), dtype=float))"
   ]
  },
  {
   "cell_type": "markdown",
   "id": "8a1fcbf1-6424-431f-b6b0-25694e8ff551",
   "metadata": {},
   "source": [
    "# torch"
   ]
  },
  {
   "cell_type": "code",
   "execution_count": 7,
   "id": "b092ad20-1b69-4e30-ab09-5a147fac5bac",
   "metadata": {},
   "outputs": [],
   "source": [
    "if False:\n",
    "    df_good.group = df_good.group - 1"
   ]
  },
  {
   "cell_type": "code",
   "execution_count": 51,
   "id": "6d9f84cc-2063-4db7-9799-b2cdeaf0f077",
   "metadata": {},
   "outputs": [],
   "source": [
    "label_mapping = {label: idx for idx, label in enumerate(set(df_good.group.values))}\n",
    "\n",
    "df_good.group = df_good.group.map(label_mapping)"
   ]
  },
  {
   "cell_type": "code",
   "execution_count": 52,
   "id": "9cf3f72e-46d0-4c7f-a044-42c1f1c83095",
   "metadata": {},
   "outputs": [
    {
     "name": "stdout",
     "output_type": "stream",
     "text": [
      "(113140, 1024) (28286, 1024) (113140,) (28286,)\n"
     ]
    }
   ],
   "source": [
    "xtr, xts, ytr, yts = train_test_split(\n",
    "    np.array(list(df_good.embeddings), dtype=float),\n",
    "    df_good.group.values,\n",
    "    test_size = 0.2, random_state=42\n",
    ")\n",
    "print(xtr.shape, xts.shape, ytr.shape, yts.shape)\n",
    "\n",
    "xtr = torch.tensor(xtr, dtype=torch.float32)\n",
    "xts = torch.tensor(xts, dtype=torch.float32)\n",
    "ytr = torch.tensor(ytr, dtype=torch.long)\n",
    "yts = torch.tensor(yts, dtype=torch.long)"
   ]
  },
  {
   "cell_type": "code",
   "execution_count": 57,
   "id": "cf80c696-9905-4e9a-bd2e-e2e17f891f89",
   "metadata": {},
   "outputs": [
    {
     "name": "stdout",
     "output_type": "stream",
     "text": [
      "9140\n"
     ]
    }
   ],
   "source": [
    "n_output = df_good.group.nunique()\n",
    "print(n_output)"
   ]
  },
  {
   "cell_type": "code",
   "execution_count": null,
   "id": "8d74c394-04e6-426c-ac9d-1b243e2f322b",
   "metadata": {},
   "outputs": [
    {
     "name": "stdout",
     "output_type": "stream",
     "text": [
      "Epoch [1/10], Test Accuracy: 0.2681\n",
      "Epoch [2/10], Test Accuracy: 0.2857\n",
      "Epoch [3/10], Test Accuracy: 0.3125\n",
      "Epoch [5/10], Test Accuracy: 0.3613\n",
      "Epoch [6/10], Test Accuracy: 0.3794\n",
      "Epoch [7/10], Test Accuracy: 0.3886\n",
      "Epoch [8/10], Test Accuracy: 0.3997\n"
     ]
    }
   ],
   "source": [
    "class DeepClassifier(torch.nn.Module):\n",
    "    def __init__(self, n_output):\n",
    "        super(DeepClassifier, self).__init__()\n",
    "        self.fc1 = torch.nn.Linear(xtr.shape[1], 20480)\n",
    "        self.fc2 = torch.nn.Linear(20480, 16384)\n",
    "        self.fc3 = torch.nn.Linear(16384, 12288)\n",
    "        self.fc4 = torch.nn.Linear(12288, n_output+1)\n",
    "        \n",
    "    def forward(self, x):\n",
    "        x = torch.relu(self.fc1(x))\n",
    "        x = torch.relu(self.fc2(x))\n",
    "        x = torch.relu(self.fc3(x))\n",
    "        x = self.fc4(x)\n",
    "        \n",
    "        return x\n",
    "    \n",
    "model = DeepClassifier(n_output)\n",
    "criterion = torch.nn.CrossEntropyLoss()\n",
    "optimizer = torch.optim.Adam(model.parameters(), lr=0.001)\n",
    "\n",
    "num_epochs = 10\n",
    "batch_size = 64\n",
    "num_batches = len(xtr) // batch_size\n",
    "\n",
    "for epoch in range(num_epochs):\n",
    "    model.train()\n",
    "    for batch_idx in range(num_batches):\n",
    "        batch_start = batch_idx * batch_size\n",
    "        batch_end = (batch_idx + 1) * batch_size\n",
    "        batch_x = xtr[batch_start:batch_end]\n",
    "        batch_y = ytr[batch_start:batch_end]\n",
    "        \n",
    "        optimizer.zero_grad()\n",
    "        outputs = model(batch_x)\n",
    "        loss = criterion(outputs, batch_y)\n",
    "        loss.backward()\n",
    "        optimizer.step()\n",
    "        \n",
    "    model.eval()\n",
    "    with torch.no_grad():\n",
    "        test_outputs = model(xts)\n",
    "        test_preds = torch.argmax(test_outputs, dim=1)\n",
    "        test_accuracy = accuracy_score(yts, test_preds.numpy())\n",
    "        print(f'Epoch [{epoch+1}/{num_epochs}], Test Accuracy: {test_accuracy:.4f}')\n",
    "        with open(data_path+\"logs_classifier.txt\", \"a\") as f:\n",
    "            f.write(f'Epoch [{epoch+1}/{num_epochs}], Test Accuracy: {test_accuracy:.4f}\\n')"
   ]
  },
  {
   "cell_type": "code",
   "execution_count": 60,
   "id": "af0da209-538f-4d07-b2e0-4c6823c49dcf",
   "metadata": {},
   "outputs": [
    {
     "name": "stdout",
     "output_type": "stream",
     "text": [
      "1\n"
     ]
    }
   ],
   "source": [
    "print(1)"
   ]
  }
 ],
 "metadata": {
  "kernelspec": {
   "display_name": "Python 3 (ipykernel)",
   "language": "python",
   "name": "python3"
  },
  "language_info": {
   "codemirror_mode": {
    "name": "ipython",
    "version": 3
   },
   "file_extension": ".py",
   "mimetype": "text/x-python",
   "name": "python",
   "nbconvert_exporter": "python",
   "pygments_lexer": "ipython3",
   "version": "3.10.5"
  }
 },
 "nbformat": 4,
 "nbformat_minor": 5
}
