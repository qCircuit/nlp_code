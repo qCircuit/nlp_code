{
 "cells": [
  {
   "cell_type": "code",
   "execution_count": 1,
   "id": "84061e52-3ef6-4662-9910-0dc203bcbe96",
   "metadata": {},
   "outputs": [
    {
     "name": "stdout",
     "output_type": "stream",
     "text": [
      "64\n"
     ]
    }
   ],
   "source": [
    "from sentence_transformers import SentenceTransformer, util\n",
    "from sklearn.cluster import DBSCAN\n",
    "from sklearn.manifold import TSNE\n",
    "from tqdm import tqdm\n",
    "import matplotlib.pyplot as plt\n",
    "import numpy as np\n",
    "import pandas as pd\n",
    "import pickle\n",
    "import time\n",
    "import torch\n",
    "\n",
    "import pymorphy2\n",
    "import re\n",
    "import spacy\n",
    "\n",
    "from string import punctuation\n",
    "\n",
    "data_path = \"data/\"\n",
    "\n",
    "import os\n",
    "print(os.cpu_count())"
   ]
  },
  {
   "cell_type": "code",
   "execution_count": 2,
   "id": "cc805a1a-4fc2-4241-8629-8a18898d406d",
   "metadata": {},
   "outputs": [
    {
     "name": "stdout",
     "output_type": "stream",
     "text": [
      "(1811222, 13)\n"
     ]
    }
   ],
   "source": [
    "df = pd.read_parquet(data_path+\"keywords/df_keywords.parquet.gzip\")\n",
    "print(df.shape)"
   ]
  },
  {
   "cell_type": "code",
   "execution_count": 3,
   "id": "0e5283d3-795f-43c0-b8af-97dcd64b58c3",
   "metadata": {},
   "outputs": [
    {
     "name": "stdout",
     "output_type": "stream",
     "text": [
      "60099\n",
      "(1472888, 13)\n"
     ]
    }
   ],
   "source": [
    "with open(data_path+\"embeddings_dict.pkl\", \"rb\") as pickle_file:\n",
    "    embeddings_dict =  pickle.load(pickle_file)\n",
    "print(len(embeddings_dict))\n",
    "\n",
    "df = df[~df.keywords.isin(embeddings_dict)].reset_index(drop=True)\n",
    "print(df.shape)"
   ]
  },
  {
   "cell_type": "code",
   "execution_count": null,
   "id": "7c96f22a-8dab-4ca6-8b6a-be53d12827aa",
   "metadata": {},
   "outputs": [
    {
     "name": "stderr",
     "output_type": "stream",
     "text": [
      "Processing Batches:   2%|▏         | 562/29458 [5:37:55<291:51:19, 36.36s/it]"
     ]
    }
   ],
   "source": [
    "model =  SentenceTransformer('intfloat/multilingual-e5-large')\n",
    "\n",
    "batch_size = 50\n",
    "total_batches = (len(df) + batch_size - 1) // batch_size\n",
    "\n",
    "for i in tqdm(range(total_batches), desc=\"Processing Batches\"):\n",
    "    dfc = df[i*batch_size:(i+1)*batch_size].reset_index(drop=True)\n",
    "    toEmbed = [\"query: \" + sent for sent in dfc.keywords.to_list()]\n",
    "    embeddings_dict.update((dict(zip(dfc.keywords, model.encode(toEmbed)))))\n",
    "    if i % 10 == 0:\n",
    "        with open(data_path+\"embeddings_dict.pkl\", \"wb\") as pickle_file:\n",
    "            pickle.dump(embeddings_dict, pickle_file)"
   ]
  },
  {
   "cell_type": "code",
   "execution_count": null,
   "id": "cda7d631-643a-4994-bd40-7577524082cc",
   "metadata": {},
   "outputs": [],
   "source": [
    "print(1)"
   ]
  }
 ],
 "metadata": {
  "kernelspec": {
   "display_name": "Python 3 (ipykernel)",
   "language": "python",
   "name": "python3"
  },
  "language_info": {
   "codemirror_mode": {
    "name": "ipython",
    "version": 3
   },
   "file_extension": ".py",
   "mimetype": "text/x-python",
   "name": "python",
   "nbconvert_exporter": "python",
   "pygments_lexer": "ipython3",
   "version": "3.10.5"
  }
 },
 "nbformat": 4,
 "nbformat_minor": 5
}
