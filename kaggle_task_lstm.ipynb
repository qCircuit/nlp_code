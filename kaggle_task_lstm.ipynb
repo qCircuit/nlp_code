{
  "cells": [
    {
      "cell_type": "code",
      "execution_count": 7,
      "metadata": {
        "colab": {
          "base_uri": "https://localhost:8080/"
        },
        "id": "QXREFEGiS1B5",
        "outputId": "21010211-ca9f-43e3-f7f1-98285c97e737"
      },
      "outputs": [
        {
          "name": "stdout",
          "output_type": "stream",
          "text": [
            "Drive already mounted at /content/d; to attempt to forcibly remount, call drive.mount(\"/content/d\", force_remount=True).\n"
          ]
        }
      ],
      "source": [
        "# from google.colab import drive\n",
        "# drive.mount(\"/content/d\")"
      ]
    },
    {
      "cell_type": "code",
      "execution_count": 8,
      "metadata": {
        "id": "_H6SSyrkyOlV"
      },
      "outputs": [],
      "source": [
        "import matplotlib.pyplot as plt\n",
        "import numpy as np\n",
        "import pandas as pd\n",
        "import pickle\n",
        "import re\n",
        "import string\n",
        "from sklearn.model_selection import train_test_split\n",
        "from sklearn.preprocessing import MinMaxScaler\n",
        "from tqdm import tqdm\n",
        "\n",
        "from keras.models import Sequential\n",
        "from keras.layers import Embedding, LSTM, Dense, Dropout\n",
        "from keras.preprocessing.text import Tokenizer\n",
        "from keras.preprocessing.sequence import pad_sequences\n",
        "from keras.utils import to_categorical"
      ]
    },
    {
      "cell_type": "code",
      "execution_count": 9,
      "metadata": {
        "colab": {
          "base_uri": "https://localhost:8080/",
          "height": 161
        },
        "id": "q8Q1VsI4x0ms",
        "outputId": "7a5c1a47-eaed-4826-eb08-b6613f6dec54"
      },
      "outputs": [
        {
          "name": "stdout",
          "output_type": "stream",
          "text": [
            "(41155, 2)\n"
          ]
        },
        {
          "data": {
            "text/html": [
              "\n",
              "  <div id=\"df-ee097e50-bfcd-4be2-98da-548a2ecfe966\" class=\"colab-df-container\">\n",
              "    <div>\n",
              "<style scoped>\n",
              "    .dataframe tbody tr th:only-of-type {\n",
              "        vertical-align: middle;\n",
              "    }\n",
              "\n",
              "    .dataframe tbody tr th {\n",
              "        vertical-align: top;\n",
              "    }\n",
              "\n",
              "    .dataframe thead th {\n",
              "        text-align: right;\n",
              "    }\n",
              "</style>\n",
              "<table border=\"1\" class=\"dataframe\">\n",
              "  <thead>\n",
              "    <tr style=\"text-align: right;\">\n",
              "      <th></th>\n",
              "      <th>Text</th>\n",
              "      <th>Sentiment</th>\n",
              "    </tr>\n",
              "  </thead>\n",
              "  <tbody>\n",
              "    <tr>\n",
              "      <th>0</th>\n",
              "      <td>@MeNyrbie @Phil_Gahan @Chrisitv https://t.co/i...</td>\n",
              "      <td>Neutral</td>\n",
              "    </tr>\n",
              "    <tr>\n",
              "      <th>1</th>\n",
              "      <td>advice Talk to your neighbours family to excha...</td>\n",
              "      <td>Positive</td>\n",
              "    </tr>\n",
              "    <tr>\n",
              "      <th>2</th>\n",
              "      <td>Coronavirus Australia: Woolworths to give elde...</td>\n",
              "      <td>Positive</td>\n",
              "    </tr>\n",
              "  </tbody>\n",
              "</table>\n",
              "</div>\n",
              "    <div class=\"colab-df-buttons\">\n",
              "\n",
              "  <div class=\"colab-df-container\">\n",
              "    <button class=\"colab-df-convert\" onclick=\"convertToInteractive('df-ee097e50-bfcd-4be2-98da-548a2ecfe966')\"\n",
              "            title=\"Convert this dataframe to an interactive table.\"\n",
              "            style=\"display:none;\">\n",
              "\n",
              "  <svg xmlns=\"http://www.w3.org/2000/svg\" height=\"24px\" viewBox=\"0 -960 960 960\">\n",
              "    <path d=\"M120-120v-720h720v720H120Zm60-500h600v-160H180v160Zm220 220h160v-160H400v160Zm0 220h160v-160H400v160ZM180-400h160v-160H180v160Zm440 0h160v-160H620v160ZM180-180h160v-160H180v160Zm440 0h160v-160H620v160Z\"/>\n",
              "  </svg>\n",
              "    </button>\n",
              "\n",
              "  <style>\n",
              "    .colab-df-container {\n",
              "      display:flex;\n",
              "      gap: 12px;\n",
              "    }\n",
              "\n",
              "    .colab-df-convert {\n",
              "      background-color: #E8F0FE;\n",
              "      border: none;\n",
              "      border-radius: 50%;\n",
              "      cursor: pointer;\n",
              "      display: none;\n",
              "      fill: #1967D2;\n",
              "      height: 32px;\n",
              "      padding: 0 0 0 0;\n",
              "      width: 32px;\n",
              "    }\n",
              "\n",
              "    .colab-df-convert:hover {\n",
              "      background-color: #E2EBFA;\n",
              "      box-shadow: 0px 1px 2px rgba(60, 64, 67, 0.3), 0px 1px 3px 1px rgba(60, 64, 67, 0.15);\n",
              "      fill: #174EA6;\n",
              "    }\n",
              "\n",
              "    .colab-df-buttons div {\n",
              "      margin-bottom: 4px;\n",
              "    }\n",
              "\n",
              "    [theme=dark] .colab-df-convert {\n",
              "      background-color: #3B4455;\n",
              "      fill: #D2E3FC;\n",
              "    }\n",
              "\n",
              "    [theme=dark] .colab-df-convert:hover {\n",
              "      background-color: #434B5C;\n",
              "      box-shadow: 0px 1px 3px 1px rgba(0, 0, 0, 0.15);\n",
              "      filter: drop-shadow(0px 1px 2px rgba(0, 0, 0, 0.3));\n",
              "      fill: #FFFFFF;\n",
              "    }\n",
              "  </style>\n",
              "\n",
              "    <script>\n",
              "      const buttonEl =\n",
              "        document.querySelector('#df-ee097e50-bfcd-4be2-98da-548a2ecfe966 button.colab-df-convert');\n",
              "      buttonEl.style.display =\n",
              "        google.colab.kernel.accessAllowed ? 'block' : 'none';\n",
              "\n",
              "      async function convertToInteractive(key) {\n",
              "        const element = document.querySelector('#df-ee097e50-bfcd-4be2-98da-548a2ecfe966');\n",
              "        const dataTable =\n",
              "          await google.colab.kernel.invokeFunction('convertToInteractive',\n",
              "                                                    [key], {});\n",
              "        if (!dataTable) return;\n",
              "\n",
              "        const docLinkHtml = 'Like what you see? Visit the ' +\n",
              "          '<a target=\"_blank\" href=https://colab.research.google.com/notebooks/data_table.ipynb>data table notebook</a>'\n",
              "          + ' to learn more about interactive tables.';\n",
              "        element.innerHTML = '';\n",
              "        dataTable['output_type'] = 'display_data';\n",
              "        await google.colab.output.renderOutput(dataTable, element);\n",
              "        const docLink = document.createElement('div');\n",
              "        docLink.innerHTML = docLinkHtml;\n",
              "        element.appendChild(docLink);\n",
              "      }\n",
              "    </script>\n",
              "  </div>\n",
              "\n",
              "\n",
              "<div id=\"df-da4835f1-06ac-453f-a252-46c55baa39cd\">\n",
              "  <button class=\"colab-df-quickchart\" onclick=\"quickchart('df-da4835f1-06ac-453f-a252-46c55baa39cd')\"\n",
              "            title=\"Suggest charts.\"\n",
              "            style=\"display:none;\">\n",
              "\n",
              "<svg xmlns=\"http://www.w3.org/2000/svg\" height=\"24px\"viewBox=\"0 0 24 24\"\n",
              "     width=\"24px\">\n",
              "    <g>\n",
              "        <path d=\"M19 3H5c-1.1 0-2 .9-2 2v14c0 1.1.9 2 2 2h14c1.1 0 2-.9 2-2V5c0-1.1-.9-2-2-2zM9 17H7v-7h2v7zm4 0h-2V7h2v10zm4 0h-2v-4h2v4z\"/>\n",
              "    </g>\n",
              "</svg>\n",
              "  </button>\n",
              "\n",
              "<style>\n",
              "  .colab-df-quickchart {\n",
              "      --bg-color: #E8F0FE;\n",
              "      --fill-color: #1967D2;\n",
              "      --hover-bg-color: #E2EBFA;\n",
              "      --hover-fill-color: #174EA6;\n",
              "      --disabled-fill-color: #AAA;\n",
              "      --disabled-bg-color: #DDD;\n",
              "  }\n",
              "\n",
              "  [theme=dark] .colab-df-quickchart {\n",
              "      --bg-color: #3B4455;\n",
              "      --fill-color: #D2E3FC;\n",
              "      --hover-bg-color: #434B5C;\n",
              "      --hover-fill-color: #FFFFFF;\n",
              "      --disabled-bg-color: #3B4455;\n",
              "      --disabled-fill-color: #666;\n",
              "  }\n",
              "\n",
              "  .colab-df-quickchart {\n",
              "    background-color: var(--bg-color);\n",
              "    border: none;\n",
              "    border-radius: 50%;\n",
              "    cursor: pointer;\n",
              "    display: none;\n",
              "    fill: var(--fill-color);\n",
              "    height: 32px;\n",
              "    padding: 0;\n",
              "    width: 32px;\n",
              "  }\n",
              "\n",
              "  .colab-df-quickchart:hover {\n",
              "    background-color: var(--hover-bg-color);\n",
              "    box-shadow: 0 1px 2px rgba(60, 64, 67, 0.3), 0 1px 3px 1px rgba(60, 64, 67, 0.15);\n",
              "    fill: var(--button-hover-fill-color);\n",
              "  }\n",
              "\n",
              "  .colab-df-quickchart-complete:disabled,\n",
              "  .colab-df-quickchart-complete:disabled:hover {\n",
              "    background-color: var(--disabled-bg-color);\n",
              "    fill: var(--disabled-fill-color);\n",
              "    box-shadow: none;\n",
              "  }\n",
              "\n",
              "  .colab-df-spinner {\n",
              "    border: 2px solid var(--fill-color);\n",
              "    border-color: transparent;\n",
              "    border-bottom-color: var(--fill-color);\n",
              "    animation:\n",
              "      spin 1s steps(1) infinite;\n",
              "  }\n",
              "\n",
              "  @keyframes spin {\n",
              "    0% {\n",
              "      border-color: transparent;\n",
              "      border-bottom-color: var(--fill-color);\n",
              "      border-left-color: var(--fill-color);\n",
              "    }\n",
              "    20% {\n",
              "      border-color: transparent;\n",
              "      border-left-color: var(--fill-color);\n",
              "      border-top-color: var(--fill-color);\n",
              "    }\n",
              "    30% {\n",
              "      border-color: transparent;\n",
              "      border-left-color: var(--fill-color);\n",
              "      border-top-color: var(--fill-color);\n",
              "      border-right-color: var(--fill-color);\n",
              "    }\n",
              "    40% {\n",
              "      border-color: transparent;\n",
              "      border-right-color: var(--fill-color);\n",
              "      border-top-color: var(--fill-color);\n",
              "    }\n",
              "    60% {\n",
              "      border-color: transparent;\n",
              "      border-right-color: var(--fill-color);\n",
              "    }\n",
              "    80% {\n",
              "      border-color: transparent;\n",
              "      border-right-color: var(--fill-color);\n",
              "      border-bottom-color: var(--fill-color);\n",
              "    }\n",
              "    90% {\n",
              "      border-color: transparent;\n",
              "      border-bottom-color: var(--fill-color);\n",
              "    }\n",
              "  }\n",
              "</style>\n",
              "\n",
              "  <script>\n",
              "    async function quickchart(key) {\n",
              "      const quickchartButtonEl =\n",
              "        document.querySelector('#' + key + ' button');\n",
              "      quickchartButtonEl.disabled = true;  // To prevent multiple clicks.\n",
              "      quickchartButtonEl.classList.add('colab-df-spinner');\n",
              "      try {\n",
              "        const charts = await google.colab.kernel.invokeFunction(\n",
              "            'suggestCharts', [key], {});\n",
              "      } catch (error) {\n",
              "        console.error('Error during call to suggestCharts:', error);\n",
              "      }\n",
              "      quickchartButtonEl.classList.remove('colab-df-spinner');\n",
              "      quickchartButtonEl.classList.add('colab-df-quickchart-complete');\n",
              "    }\n",
              "    (() => {\n",
              "      let quickchartButtonEl =\n",
              "        document.querySelector('#df-da4835f1-06ac-453f-a252-46c55baa39cd button');\n",
              "      quickchartButtonEl.style.display =\n",
              "        google.colab.kernel.accessAllowed ? 'block' : 'none';\n",
              "    })();\n",
              "  </script>\n",
              "</div>\n",
              "    </div>\n",
              "  </div>\n"
            ],
            "text/plain": [
              "                                                Text Sentiment\n",
              "0  @MeNyrbie @Phil_Gahan @Chrisitv https://t.co/i...   Neutral\n",
              "1  advice Talk to your neighbours family to excha...  Positive\n",
              "2  Coronavirus Australia: Woolworths to give elde...  Positive"
            ]
          },
          "execution_count": 9,
          "metadata": {},
          "output_type": "execute_result"
        }
      ],
      "source": [
        "# fPath = \"d/MyDrive/iftm_nlp/data_kaggle/\"\n",
        "fPath = \"/data/kaggle_unit_3/\"\n",
        "df = pd.read_csv(fPath + \"train.csv\")\n",
        "\n",
        "# drop rows with empty target\n",
        "df = df[~df.Sentiment.isna()].reset_index(drop=True)\n",
        "df.drop(\"Unnamed: 0\", axis=1, inplace=True)\n",
        "\n",
        "print(df.shape)\n",
        "df.head(3)"
      ]
    },
    {
      "cell_type": "markdown",
      "metadata": {
        "id": "VBzVg_Iw02f6"
      },
      "source": [
        "## preprocess"
      ]
    },
    {
      "cell_type": "code",
      "execution_count": 10,
      "metadata": {
        "colab": {
          "base_uri": "https://localhost:8080/",
          "height": 461
        },
        "id": "pe9Y_4YpyB5h",
        "outputId": "91a1e91b-eef5-4de0-a101-ec185e79b7b9"
      },
      "outputs": [
        {
          "name": "stdout",
          "output_type": "stream",
          "text": [
            "{'Neutral': 0, 'Positive': 1, 'Extremely Negative': 2, 'Negative': 3, 'Extremely Positive': 4}\n"
          ]
        },
        {
          "data": {
            "image/png": "[encoded data removed]",
            "text/plain": [
              "<Figure size 640x480 with 1 Axes>"
            ]
          },
          "metadata": {},
          "output_type": "display_data"
        }
      ],
      "source": [
        "# encoding string labels\n",
        "no_labels = df.Sentiment.nunique()\n",
        "labels_dict = dict(zip(df.Sentiment.unique(), range(no_labels)))\n",
        "print(labels_dict)\n",
        "df.Sentiment = df.Sentiment.map(labels_dict)\n",
        "\n",
        "# check the target ditribution\n",
        "ax = df.groupby(\"Sentiment\").count().plot(kind=\"bar\", legend=False)"
      ]
    },
    {
      "cell_type": "code",
      "execution_count": 11,
      "metadata": {
        "colab": {
          "base_uri": "https://localhost:8080/"
        },
        "id": "s8RXhbVc06vQ",
        "outputId": "7cd78b5a-f526-47e9-9717-e157673ae70d"
      },
      "outputs": [
        {
          "name": "stdout",
          "output_type": "stream",
          "text": [
            "preprocess completed\n"
          ]
        }
      ],
      "source": [
        "# clean the text\n",
        "\n",
        "def remove_links(v):\n",
        "    # remove https links\n",
        "    return re.sub(r\"https\\S+\",\"\", v)\n",
        "\n",
        "def remove_calls(v):\n",
        "    # remove @text\n",
        "    return re.sub(r\"@\\S+\",\"\", v)\n",
        "\n",
        "def remove_punctuation(v):\n",
        "    # remove special chars\n",
        "    return re.sub(f\"[{re.escape(string.punctuation)}]\", '', v)\n",
        "\n",
        "def remove_chars(v):\n",
        "    # remove special chars\n",
        "    chars = [\"\\n\", \"\\t\", \"\\r\", \"<br>\"]\n",
        "    for char in chars:\n",
        "        v = v.replace(char, \"\")\n",
        "    return v\n",
        "\n",
        "def remove_digits(v):\n",
        "    # remove digits\n",
        "    return re.sub(r\"\\d\", \"\", v)\n",
        "\n",
        "def remove_emojis(data):\n",
        "    # remove emojis\n",
        "    emoj = re.compile(\"[\"\n",
        "        u\"\\U0001F600-\\U0001F64F\"  # emoticons\n",
        "        u\"\\U0001F300-\\U0001F5FF\"  # symbols & pictographs\n",
        "        u\"\\U0001F680-\\U0001F6FF\"  # transport & map symbols\n",
        "        u\"\\U0001F1E0-\\U0001F1FF\"  # flags (iOS)\n",
        "        u\"\\U00002500-\\U00002BEF\"  # chinese char\n",
        "        u\"\\U00002702-\\U000027B0\"\n",
        "        u\"\\U000024C2-\\U0001F251\"\n",
        "        u\"\\U0001f926-\\U0001f937\"\n",
        "        u\"\\U00010000-\\U0010ffff\"\n",
        "        u\"\\u2640-\\u2642\"\n",
        "        u\"\\u2600-\\u2B55\"\n",
        "        u\"\\u200d\"\n",
        "        u\"\\u23cf\"\n",
        "        u\"\\u23e9\"\n",
        "        u\"\\u231a\"\n",
        "        u\"\\ufe0f\"  # dingbats\n",
        "        u\"\\u3030\"\n",
        "                      \"]+\", re.UNICODE)\n",
        "    return re.sub(emoj, '', data)\n",
        "\n",
        "\n",
        "df.Text = df.Text.apply(remove_links)\n",
        "df.Text = df.Text.apply(remove_calls)\n",
        "df.Text = df.Text.apply(remove_punctuation)\n",
        "df.Text = df.Text.apply(remove_chars)\n",
        "df.Text = df.Text.apply(remove_digits)\n",
        "df.Text = df.Text.apply(remove_emojis)\n",
        "\n",
        "# lower the text\n",
        "df.Text = df.Text.str.lower()\n",
        "# remove rows with the text too short\n",
        "min_text_len = 20\n",
        "df = df[~df.Text.str.len()<min_text_len].reset_index(drop=True)\n",
        "print(\"preprocess completed\")"
      ]
    },
    {
      "cell_type": "markdown",
      "metadata": {
        "id": "EOIM_mpsSu1-"
      },
      "source": [
        "## convert to vectors"
      ]
    },
    {
      "cell_type": "code",
      "execution_count": 6,
      "metadata": {
        "colab": {
          "base_uri": "https://localhost:8080/"
        },
        "id": "Wp6Yp5FoSu1-",
        "outputId": "292c6064-fde4-45cb-a078-f6e5c60012ee"
      },
      "outputs": [
        {
          "name": "stdout",
          "output_type": "stream",
          "text": [
            "(41155, 1024) (41155, 5)\n"
          ]
        }
      ],
      "source": [
        "max_words = 40_000\n",
        "max_sequence_length = 1024\n",
        "\n",
        "# tokenize words\n",
        "tokenizer = Tokenizer(num_words=max_words)\n",
        "tokenizer.fit_on_texts(df.Text)\n",
        "sequences = tokenizer.texts_to_sequences(df.Text)\n",
        "word_index = tokenizer.word_index\n",
        "\n",
        "# vectors padding\n",
        "x = pad_sequences(sequences, maxlen=max_sequence_length)\n",
        "# target ohe\n",
        "y = to_categorical(df.Sentiment, num_classes=5)\n",
        "print(x.shape, y.shape)"
      ]
    },
    {
      "cell_type": "code",
      "execution_count": null,
      "metadata": {
        "id": "I7xiaQUzUsp7"
      },
      "outputs": [],
      "source": [
        "# input scaling\n",
        "scaler = MinMaxScaler()\n",
        "x = scaler.fit_transform(x)"
      ]
    },
    {
      "cell_type": "code",
      "execution_count": null,
      "metadata": {
        "id": "9iQO1LS0Su1_"
      },
      "outputs": [],
      "source": [
        "# train test split\n",
        "xtr, xvl, ytr, yvl = train_test_split(x, y, test_size=0.2, random_state=42)"
      ]
    },
    {
      "cell_type": "markdown",
      "metadata": {
        "id": "qhSk5ERYSu1_"
      },
      "source": [
        "## model_fit"
      ]
    },
    {
      "cell_type": "code",
      "execution_count": null,
      "metadata": {
        "colab": {
          "base_uri": "https://localhost:8080/"
        },
        "id": "okpKzGX7Su1_",
        "outputId": "063cd3b9-5fa8-4020-a0e8-ebb7057d607f"
      },
      "outputs": [
        {
          "name": "stdout",
          "output_type": "stream",
          "text": [
            "Epoch 1/10\n",
            "1287/1287 [==============================] - 51s 37ms/step - loss: 1.5775 - accuracy: 0.2756 - val_loss: 1.5740 - val_accuracy: 0.2799\n",
            "Epoch 2/10\n",
            "1287/1287 [==============================] - 46s 36ms/step - loss: 1.5761 - accuracy: 0.2773 - val_loss: 1.5739 - val_accuracy: 0.2799\n",
            "Epoch 3/10\n",
            "1287/1287 [==============================] - 48s 37ms/step - loss: 1.5756 - accuracy: 0.2776 - val_loss: 1.5758 - val_accuracy: 0.2799\n",
            "Epoch 4/10\n",
            "1287/1287 [==============================] - 48s 38ms/step - loss: 1.5761 - accuracy: 0.2775 - val_loss: 1.5747 - val_accuracy: 0.2799\n",
            "Epoch 5/10\n",
            "1287/1287 [==============================] - 47s 37ms/step - loss: 1.5757 - accuracy: 0.2771 - val_loss: 1.5739 - val_accuracy: 0.2799\n",
            "Epoch 6/10\n",
            "1287/1287 [==============================] - 46s 36ms/step - loss: 1.5755 - accuracy: 0.2774 - val_loss: 1.5745 - val_accuracy: 0.2799\n",
            "Epoch 7/10\n",
            "1287/1287 [==============================] - 47s 36ms/step - loss: 1.5758 - accuracy: 0.2775 - val_loss: 1.5745 - val_accuracy: 0.2799\n",
            "Epoch 8/10\n",
            "1287/1287 [==============================] - 49s 38ms/step - loss: 1.5755 - accuracy: 0.2776 - val_loss: 1.5739 - val_accuracy: 0.2800\n",
            "Epoch 9/10\n",
            "1287/1287 [==============================] - 47s 37ms/step - loss: 1.5754 - accuracy: 0.2775 - val_loss: 1.5740 - val_accuracy: 0.2800\n",
            "Epoch 10/10\n",
            "1287/1287 [==============================] - 48s 37ms/step - loss: 1.5753 - accuracy: 0.2776 - val_loss: 1.5737 - val_accuracy: 0.2800\n"
          ]
        }
      ],
      "source": [
        "# Define the LSTM model\n",
        "embedding_dim = 100\n",
        "model = Sequential()\n",
        "model.add(Embedding(input_dim=max_words, output_dim=embedding_dim, input_length=max_sequence_length))\n",
        "model.add(LSTM(128))\n",
        "model.add(Dropout(0.2))\n",
        "model.add(Dense(5, activation='softmax'))\n",
        "\n",
        "# Compile the model\n",
        "model.compile(loss='categorical_crossentropy', optimizer='adam', metrics=['accuracy'])\n",
        "\n",
        "# Train the model\n",
        "history = model.fit(\n",
        "    x, y,\n",
        "    epochs=10,\n",
        "    batch_size=32,\n",
        "    validation_data=(xvl, yvl)\n",
        ")"
      ]
    },
    {
      "cell_type": "code",
      "execution_count": null,
      "metadata": {
        "colab": {
          "base_uri": "https://localhost:8080/",
          "height": 776
        },
        "id": "KYAeJw7BSu2A",
        "outputId": "6f3ed0fa-873f-4e36-abed-2b4d9447a82c"
      },
      "outputs": [
        {
          "data": {
            "image/png": "[encoded data removed]",
            "text/plain": [
              "<Figure size 1000x900 with 2 Axes>"
            ]
          },
          "metadata": {},
          "output_type": "display_data"
        }
      ],
      "source": [
        "plt.figure(figsize=(10,9))\n",
        "plt.subplot(2,1,1)\n",
        "plt.plot(history.history[\"loss\"], color=\"b\", label=\"@train\")\n",
        "plt.plot(history.history[\"val_loss\"], color=\"g\", label=\"@test\")\n",
        "plt.title(\"loss\")\n",
        "plt.legend();\n",
        "\n",
        "plt.subplot(2,1,2)\n",
        "plt.plot(history.history[\"accuracy\"], color=\"b\", label=\"@train\")\n",
        "plt.plot(history.history[\"val_accuracy\"], color=\"g\", label=\"@test\")\n",
        "plt.title(\"accuracy\")\n",
        "plt.legend();"
      ]
    },
    {
      "cell_type": "markdown",
      "metadata": {
        "id": "cuuUprJbSu2A"
      },
      "source": [
        "## predict & submit"
      ]
    },
    {
      "cell_type": "code",
      "execution_count": null,
      "metadata": {
        "colab": {
          "base_uri": "https://localhost:8080/"
        },
        "id": "osKwHsqzSu2A",
        "outputId": "e92e1907-298e-42a0-ae11-b0df0d24be5b"
      },
      "outputs": [
        {
          "name": "stdout",
          "output_type": "stream",
          "text": [
            "preprocess completed\n"
          ]
        }
      ],
      "source": [
        "# preprocess test\n",
        "\n",
        "dfts = pd.read_csv(fPath + \"test.csv\")\n",
        "\n",
        "dfts.Text = dfts.Text.apply(remove_links)\n",
        "dfts.Text = dfts.Text.apply(remove_calls)\n",
        "dfts.Text = dfts.Text.apply(remove_punctuation)\n",
        "dfts.Text = dfts.Text.apply(remove_chars)\n",
        "dfts.Text = dfts.Text.apply(remove_digits)\n",
        "dfts.Text = dfts.Text.apply(remove_emojis)\n",
        "\n",
        "# lower the text\n",
        "dfts.Text = dfts.Text.str.lower()\n",
        "# remove rows with the text too short\n",
        "min_text_len = 20\n",
        "dfts = dfts[~dfts.Text.str.len()<min_text_len].reset_index(drop=True)\n",
        "print(\"preprocess completed\")"
      ]
    },
    {
      "cell_type": "code",
      "execution_count": null,
      "metadata": {
        "colab": {
          "base_uri": "https://localhost:8080/"
        },
        "id": "1rBO-t1xSu2A",
        "outputId": "7f829a82-6c68-45ed-c9e0-528c23846e2f"
      },
      "outputs": [
        {
          "name": "stdout",
          "output_type": "stream",
          "text": [
            "119/119 [==============================] - 2s 14ms/step\n"
          ]
        }
      ],
      "source": [
        "# predict\n",
        "sequences = tokenizer.texts_to_sequences(dfts.Text)\n",
        "xts = pad_sequences(sequences, maxlen=max_sequence_length)\n",
        "predictions = model.predict(xts)\n",
        "predictions = np.argmax(predictions, axis=1)"
      ]
    },
    {
      "cell_type": "code",
      "execution_count": null,
      "metadata": {
        "id": "Azl7hZZzYu1n"
      },
      "outputs": [],
      "source": [
        "# decode labels\n",
        "decode_labels_dict = {k:v for v,k in labels_dict.items()}\n",
        "predictions = [decode_labels_dict[x] for x in predictions]"
      ]
    },
    {
      "cell_type": "code",
      "execution_count": null,
      "metadata": {
        "colab": {
          "base_uri": "https://localhost:8080/"
        },
        "id": "ovgAd7WVSu2B",
        "outputId": "da9410ba-b414-45f8-e94e-6e00ab052d7d"
      },
      "outputs": [
        {
          "name": "stdout",
          "output_type": "stream",
          "text": [
            "100% 181k/181k [00:02<00:00, 67.1kB/s]\n",
            "Successfully submitted to Unit 3 - Классификация текстов"
          ]
        }
      ],
      "source": [
        "# submit\n",
        "submission = pd.read_csv(fPath + \"sample_submission.csv\")\n",
        "submission.Sentiment = predictions\n",
        "submission.to_csv(\"submission.csv\", index=False)\n",
        "\n",
        "# import os\n",
        "# os.environ[\"KAGGLE_USERNAME\"]=\n",
        "# os.environ[\"KAGGLE_KEY\"]=\n",
        "\n",
        "!kaggle competitions submit -c unit-3-nlp-txt-classification -f submission.csv -m \"*\""
      ]
    }
  ],
  "metadata": {
    "colab": {
      "provenance": []
    },
    "kernelspec": {
      "display_name": "Python 3",
      "name": "python3"
    },
    "language_info": {
      "codemirror_mode": {
        "name": "ipython",
        "version": 3
      },
      "file_extension": ".py",
      "mimetype": "text/x-python",
      "name": "python",
      "nbconvert_exporter": "python",
      "pygments_lexer": "ipython3",
      "version": "3.10.5"
    }
  },
  "nbformat": 4,
  "nbformat_minor": 0
}
